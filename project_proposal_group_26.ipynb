{
 "cells": [
  {
   "cell_type": "markdown",
   "id": "d1eea76c-3a3e-474d-bfd4-ecc861d494c5",
   "metadata": {},
   "source": [
    "**PROJECT PROPOSAL GROUP 26**\n",
    "\n",
    "**Impact of Cholesterol Levels and Age on Heart Disease**"
   ]
  },
  {
   "cell_type": "markdown",
   "id": "c36bf43c-7977-46b0-b320-e37b5d8c33d3",
   "metadata": {},
   "source": [
    "# Introduction\n",
    "\n",
    "Heart disease is one of the leading causes of death around the globe. Several factors can increase the likelihoodnof developing heart disease, such as age, high blood pressure, high cholesterol levels, obesity, diabetes, and family histrory.\n",
    "\n",
    "In this project, we're aiming to investigate the impact of age and cholesterol levels on the chances of developing heart disease. Age and cholesterol levels are two of the most commonly used indicators to assess the risk of developing heart disease. However, the relationship between these variables and the likelihood of developing heart disease is not fully understood. Therefore, the main question we will try to answer with our project is:\n",
    "       \"Does age and cholesterol levels affect the likelihood of developing heart disease?\"\n",
    "       \n",
    "The dataset we're using is collected by the University of California, Irvine, contains data on 303 individuals. Demographic and clinical measurements such as age, sex, chest pain type, resting blood pressure, serum cholesteral in mg/dl etc."
   ]
  },
  {
   "cell_type": "markdown",
   "id": "6bc5afa2-455f-4eca-ac7e-d7a43d80a405",
   "metadata": {},
   "source": [
    "**Expected Outcomes and Significance**\n",
    "\n",
    "Expected findings:\n",
    "We expect to find positive relationships between age and heart disease, as well as cholesterol and heart disease. With increasing age and increasing cholesterol, we expect increased likelihood of heart disease. \n",
    "\n",
    "Impact:\n",
    "Our findings can help understand some contributing factors of heart disease. For example, understanding the impact of cholesterol on risk of heart disease can help prevent it by modifying diet and health, etc. \n",
    "\n",
    "Future Questions:\n",
    "If cholesterol impacts the risk of heart disease, how can we work on controlling its levels (i.e. diet, exercise)? If age impacts the risk of heart disease, what are some other ways to lower risk in the elderly population?\n"
   ]
  },
  {
   "cell_type": "code",
   "execution_count": null,
   "id": "50114ecd-4da4-4a22-8085-aed0b1f583e4",
   "metadata": {},
   "outputs": [],
   "source": []
  }
 ],
 "metadata": {
  "kernelspec": {
   "display_name": "R",
   "language": "R",
   "name": "ir"
  },
  "language_info": {
   "codemirror_mode": "r",
   "file_extension": ".r",
   "mimetype": "text/x-r-source",
   "name": "R",
   "pygments_lexer": "r",
   "version": "4.1.3"
  }
 },
 "nbformat": 4,
 "nbformat_minor": 5
}
