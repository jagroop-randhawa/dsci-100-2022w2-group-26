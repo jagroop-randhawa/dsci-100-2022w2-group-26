{
 "cells": [
  {
   "cell_type": "markdown",
   "id": "d1eea76c-3a3e-474d-bfd4-ecc861d494c5",
   "metadata": {},
   "source": [
    "PROJECT PROPOSAL GROUP 26"
   ]
  },
  {
   "cell_type": "markdown",
   "id": "6bc5afa2-455f-4eca-ac7e-d7a43d80a405",
   "metadata": {},
   "source": [
    "**Expected Outcomes and Significance**\n",
    "\n",
    "**Expected findings** \n",
    "We expect to find positive relationships between age and heart disease, as well as cholesterol and heart disease. With increasing age and increasing cholesterol, we expect increased likelihood of heart disease. \n",
    "\n",
    "**Impact**\n",
    "Our findings can help understand some contributing factors of heart disease. For example, understanding the impact of cholesterol on risk of heart disease can help prevent it by modifying diet and health, etc. \n",
    "\n",
    "**Future Questions**\n",
    "If cholesterol impacts the risk of heart disease, how can we work on controlling its levels (i.e. diet, exercise)? If age impacts the risk of heart disease, what are some other ways to lower risk in the elderly population?\n"
   ]
  }
 ],
 "metadata": {
  "kernelspec": {
   "display_name": "R",
   "language": "R",
   "name": "ir"
  },
  "language_info": {
   "codemirror_mode": "r",
   "file_extension": ".r",
   "mimetype": "text/x-r-source",
   "name": "R",
   "pygments_lexer": "r",
   "version": "4.1.3"
  }
 },
 "nbformat": 4,
 "nbformat_minor": 5
}
